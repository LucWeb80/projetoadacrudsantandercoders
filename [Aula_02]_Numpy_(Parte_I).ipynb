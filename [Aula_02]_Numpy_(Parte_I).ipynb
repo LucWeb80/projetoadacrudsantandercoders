{
  "cells": [
    {
      "cell_type": "markdown",
      "metadata": {
        "id": "view-in-github",
        "colab_type": "text"
      },
      "source": [
        "<a href=\"https://colab.research.google.com/github/LucWeb80/projetoadacrudsantandercoders/blob/main/%5BAula_02%5D_Numpy_(Parte_I).ipynb\" target=\"_parent\"><img src=\"https://colab.research.google.com/assets/colab-badge.svg\" alt=\"Open In Colab\"/></a>"
      ]
    },
    {
      "cell_type": "markdown",
      "metadata": {
        "id": "x4waS97ylShA"
      },
      "source": [
        "# Aula 02 - NumPy (Parte I)"
      ]
    },
    {
      "cell_type": "markdown",
      "metadata": {
        "id": "4kNCtsHglShC"
      },
      "source": [
        "<img src=\"https://upload.wikimedia.org/wikipedia/commons/thumb/3/31/NumPy_logo_2020.svg/2560px-NumPy_logo_2020.svg.png\" alt=\"Alternative text\" />"
      ]
    },
    {
      "cell_type": "markdown",
      "metadata": {
        "id": "hs4QZwFYlShD"
      },
      "source": [
        "A biblioteca **NumPy** _(Numerical Python)_ proporciona uma forma eficiente de armazenagem e processamento de conjuntos de dados, e é utilizada como base para a construção da biblioteca Pandas, que estudaremos a seguir.\n",
        "\n",
        "O diferencial do Numpy é sua velocidade e eficiência, o que faz com que ela seja amplamente utilizada para computação científica e análise de dados.\n",
        "\n",
        "A velocidade e eficiência é possível graças à estrutura chamada **numpy array**, que é um forma eficiente de guardar e manipular matrizes, que serve como base para as tabelas que iremos utilizar."
      ]
    },
    {
      "cell_type": "markdown",
      "metadata": {
        "id": "vtzBMVS3lShE"
      },
      "source": [
        "[Guia rápido de uso da biblioteca](https://numpy.org/devdocs/user/quickstart.html)\n",
        "\n",
        "[Guia para iniciantes](https://numpy.org/devdocs/user/absolute_beginners.html)"
      ]
    },
    {
      "cell_type": "markdown",
      "metadata": {
        "id": "x1mb0mZ8lShE"
      },
      "source": [
        "___"
      ]
    },
    {
      "cell_type": "code",
      "execution_count": null,
      "metadata": {
        "id": "xUps2OHdlShE"
      },
      "outputs": [],
      "source": [
        "lista = [1, 2, 3]"
      ]
    },
    {
      "cell_type": "code",
      "execution_count": null,
      "metadata": {
        "id": "v3XAp9yvlShF",
        "outputId": "73f59d8f-db64-473d-a604-3112a597ed0d"
      },
      "outputs": [
        {
          "name": "stdout",
          "output_type": "stream",
          "text": [
            "[1, 2, 3]\n"
          ]
        }
      ],
      "source": [
        "print(lista)"
      ]
    },
    {
      "cell_type": "code",
      "execution_count": null,
      "metadata": {
        "id": "xE32we8slShG",
        "outputId": "00dbb1cd-60b0-4b33-baba-abcc96ebd473"
      },
      "outputs": [
        {
          "name": "stdout",
          "output_type": "stream",
          "text": [
            "[1, 2, 0]\n"
          ]
        }
      ],
      "source": [
        "lista[2] = 0\n",
        "print(lista)"
      ]
    },
    {
      "cell_type": "code",
      "execution_count": null,
      "metadata": {
        "id": "XlwSJShJlShG",
        "outputId": "d302d6f8-e6a7-402c-a801-f3f73b83db0e"
      },
      "outputs": [
        {
          "ename": "TypeError",
          "evalue": "'type' object does not support item assignment",
          "output_type": "error",
          "traceback": [
            "\u001b[1;31m---------------------------------------------------------------------------\u001b[0m",
            "\u001b[1;31mTypeError\u001b[0m                                 Traceback (most recent call last)",
            "\u001b[1;32m<ipython-input-4-cf19c9b26037>\u001b[0m in \u001b[0;36m<module>\u001b[1;34m\u001b[0m\n\u001b[0;32m      1\u001b[0m \u001b[0mtupla\u001b[0m \u001b[1;33m=\u001b[0m \u001b[1;33m(\u001b[0m\u001b[1;36m1\u001b[0m\u001b[1;33m,\u001b[0m\u001b[1;36m2\u001b[0m\u001b[1;33m,\u001b[0m\u001b[1;36m3\u001b[0m\u001b[1;33m)\u001b[0m\u001b[1;33m\u001b[0m\u001b[1;33m\u001b[0m\u001b[0m\n\u001b[1;32m----> 2\u001b[1;33m \u001b[0mtuple\u001b[0m\u001b[1;33m[\u001b[0m\u001b[1;36m2\u001b[0m\u001b[1;33m]\u001b[0m \u001b[1;33m=\u001b[0m \u001b[1;36m0\u001b[0m\u001b[1;33m\u001b[0m\u001b[1;33m\u001b[0m\u001b[0m\n\u001b[0m",
            "\u001b[1;31mTypeError\u001b[0m: 'type' object does not support item assignment"
          ]
        }
      ],
      "source": [
        "tupla = (1,2,3)\n",
        "tuple[2] = 0"
      ]
    },
    {
      "cell_type": "code",
      "execution_count": null,
      "metadata": {
        "id": "5VHjbpO6lShH",
        "outputId": "c70b5ab5-e1be-4591-9042-9e38e4cb1c5b"
      },
      "outputs": [
        {
          "data": {
            "text/plain": [
              "(1, 2, 0)"
            ]
          },
          "execution_count": 5,
          "metadata": {},
          "output_type": "execute_result"
        }
      ],
      "source": [
        "tuple(lista)"
      ]
    },
    {
      "cell_type": "code",
      "execution_count": null,
      "metadata": {
        "id": "NqgFlp9IlShH",
        "outputId": "786e67be-55f3-4901-d22a-2929f95b7e80"
      },
      "outputs": [
        {
          "data": {
            "text/plain": [
              "[1, 2, 3]"
            ]
          },
          "execution_count": 7,
          "metadata": {},
          "output_type": "execute_result"
        }
      ],
      "source": [
        "list(tupla)"
      ]
    },
    {
      "cell_type": "markdown",
      "metadata": {
        "id": "zIw2EqgvlShH"
      },
      "source": [
        "Qual a diferença entre um numpy array e uma lista?"
      ]
    },
    {
      "cell_type": "markdown",
      "metadata": {
        "id": "no57wXbmlShH"
      },
      "source": [
        "**numpy array:** pode ter somente um tipo de dado (homogêneo). É pensado para maior eficiência de cálculo.\n",
        "\n",
        "**lista:** permite armenzar dados de vários tipos."
      ]
    },
    {
      "cell_type": "code",
      "execution_count": null,
      "metadata": {
        "id": "q1ZBpWdmlShH"
      },
      "outputs": [],
      "source": [
        "lista = [\"a\", 2, 2.4, True, [1,3], {\"a\":\"2\"}]"
      ]
    },
    {
      "cell_type": "code",
      "execution_count": null,
      "metadata": {
        "id": "qj4NkpMylShI",
        "outputId": "80d1b99d-07f6-470f-c26f-227e047a8727"
      },
      "outputs": [
        {
          "name": "stdout",
          "output_type": "stream",
          "text": [
            "<class 'list'>\n"
          ]
        }
      ],
      "source": [
        "print(type(lista))"
      ]
    },
    {
      "cell_type": "code",
      "execution_count": null,
      "metadata": {
        "id": "ON8YlVvXlShI",
        "outputId": "3fb10974-25b8-4b7f-be77-a71f41ca63b4"
      },
      "outputs": [
        {
          "name": "stdout",
          "output_type": "stream",
          "text": [
            "['a', 2, 2.4, True, [1, 3], {'a': '2'}]\n"
          ]
        }
      ],
      "source": [
        "print(lista)"
      ]
    },
    {
      "cell_type": "code",
      "execution_count": null,
      "metadata": {
        "id": "9YzuvDvSlShI",
        "outputId": "199e3c61-0a04-4a7f-adca-1387713126f5"
      },
      "outputs": [
        {
          "data": {
            "text/plain": [
              "['a', 2, 2.4, True, [1, 3], {'a': '2'}, 'Olá']"
            ]
          },
          "execution_count": 11,
          "metadata": {},
          "output_type": "execute_result"
        }
      ],
      "source": [
        "lista.append(\"Olá\")\n",
        "lista"
      ]
    },
    {
      "cell_type": "markdown",
      "metadata": {
        "id": "ikjRYcGnlShJ"
      },
      "source": [
        "Importando o numpy"
      ]
    },
    {
      "cell_type": "code",
      "execution_count": null,
      "metadata": {
        "id": "MfotCoPslShJ",
        "outputId": "c5309b05-ad33-48dd-9bdf-deab5d0b6e0d"
      },
      "outputs": [
        {
          "name": "stdout",
          "output_type": "stream",
          "text": [
            "Requirement already satisfied: numpy in c:\\users\\cstefano\\anaconda3\\lib\\site-packages (1.23.4)\n"
          ]
        }
      ],
      "source": [
        "!pip install numpy"
      ]
    },
    {
      "cell_type": "code",
      "execution_count": null,
      "metadata": {
        "id": "iGCzIo-wlShJ"
      },
      "outputs": [],
      "source": [
        "import numpy as np"
      ]
    },
    {
      "cell_type": "markdown",
      "metadata": {
        "id": "6MkkRlo0lShK"
      },
      "source": [
        "### Arrays em numpy"
      ]
    },
    {
      "cell_type": "markdown",
      "metadata": {
        "id": "r8HnbFtilShK"
      },
      "source": [
        "<img src = \"https://numpy.org/doc/1.25/_images/np_array.png\" />"
      ]
    },
    {
      "cell_type": "markdown",
      "metadata": {
        "id": "81KrgjxClShK"
      },
      "source": [
        "#### Criando arrays\n",
        "\n",
        "Pra criar arrays a partir de uma lista, basta utilizar a função **np.array()**"
      ]
    },
    {
      "cell_type": "code",
      "execution_count": null,
      "metadata": {
        "id": "kzGqgWNulShK"
      },
      "outputs": [],
      "source": [
        "# criando uma lista numérica em Python\n",
        "lista = [1, 2, 3, 4, 5]\n",
        "array = np.array(lista)"
      ]
    },
    {
      "cell_type": "code",
      "execution_count": null,
      "metadata": {
        "id": "P_3gTogwlShK",
        "outputId": "336658dd-444e-43f4-e1b1-528c30859aa4"
      },
      "outputs": [
        {
          "data": {
            "text/plain": [
              "[1, 2, 3, 4, 5]"
            ]
          },
          "execution_count": 15,
          "metadata": {},
          "output_type": "execute_result"
        }
      ],
      "source": [
        "lista"
      ]
    },
    {
      "cell_type": "code",
      "execution_count": null,
      "metadata": {
        "id": "HAGVZO38lShK",
        "outputId": "4685bc4e-bcdb-4b62-9df2-19fee3bb9e70"
      },
      "outputs": [
        {
          "data": {
            "text/plain": [
              "array([1, 2, 3, 4, 5])"
            ]
          },
          "execution_count": 16,
          "metadata": {},
          "output_type": "execute_result"
        }
      ],
      "source": [
        "array"
      ]
    },
    {
      "cell_type": "code",
      "execution_count": null,
      "metadata": {
        "id": "jCvjoTGFlShK",
        "outputId": "cbbeab19-b21e-465a-ae36-e8fd7a7a0f33"
      },
      "outputs": [
        {
          "name": "stdout",
          "output_type": "stream",
          "text": [
            "<class 'list'>\n"
          ]
        }
      ],
      "source": [
        "print(type(lista))"
      ]
    },
    {
      "cell_type": "code",
      "execution_count": null,
      "metadata": {
        "id": "6Xawf9aflShK",
        "outputId": "bbb8f78a-bcd3-4fcc-fc3c-3c9ae4099cda"
      },
      "outputs": [
        {
          "name": "stdout",
          "output_type": "stream",
          "text": [
            "<class 'numpy.ndarray'>\n"
          ]
        }
      ],
      "source": [
        "print(type(array))"
      ]
    },
    {
      "cell_type": "code",
      "execution_count": null,
      "metadata": {
        "id": "ZEv5a_d_lShL",
        "outputId": "5c832041-9dbd-41ac-b710-1e79fd35dfb0"
      },
      "outputs": [
        {
          "data": {
            "text/plain": [
              "[1, 2, 3, 4, 5]"
            ]
          },
          "execution_count": 19,
          "metadata": {},
          "output_type": "execute_result"
        }
      ],
      "source": [
        "lista"
      ]
    },
    {
      "cell_type": "code",
      "execution_count": null,
      "metadata": {
        "id": "s02LSWialShL",
        "outputId": "b6cd4f49-c7fa-4078-cc59-ea389180b264"
      },
      "outputs": [
        {
          "data": {
            "text/plain": [
              "[2, 4, 6, 8, 10]"
            ]
          },
          "execution_count": 20,
          "metadata": {},
          "output_type": "execute_result"
        }
      ],
      "source": [
        "[i*2 for i in lista]"
      ]
    },
    {
      "cell_type": "code",
      "execution_count": null,
      "metadata": {
        "id": "R7qMVAx5lShL",
        "outputId": "3175e213-63e4-4da2-fea8-af61b083d696"
      },
      "outputs": [
        {
          "data": {
            "text/plain": [
              "array([ 2,  4,  6,  8, 10])"
            ]
          },
          "execution_count": 21,
          "metadata": {},
          "output_type": "execute_result"
        }
      ],
      "source": [
        "array*2"
      ]
    },
    {
      "cell_type": "code",
      "execution_count": null,
      "metadata": {
        "scrolled": true,
        "id": "fdtdN7cXlShL",
        "outputId": "eabba6ad-2267-4e85-ec1d-b00e97cb66d4"
      },
      "outputs": [
        {
          "data": {
            "text/plain": [
              "[1, 2, 3, 4, 5, 1, 2, 3, 4, 5]"
            ]
          },
          "execution_count": 22,
          "metadata": {},
          "output_type": "execute_result"
        }
      ],
      "source": [
        "2*lista"
      ]
    },
    {
      "cell_type": "markdown",
      "metadata": {
        "id": "PEd_7pfTlShL"
      },
      "source": [
        "#### Outras formas de inicializar arrays..."
      ]
    },
    {
      "cell_type": "code",
      "execution_count": null,
      "metadata": {
        "ExecuteTime": {
          "end_time": "2020-01-04T20:58:06.783851Z",
          "start_time": "2020-01-04T20:58:06.776364Z"
        },
        "id": "qPzuSTHHlShL",
        "outputId": "53c59e18-afbf-49f9-f10c-0878a3080443"
      },
      "outputs": [
        {
          "data": {
            "text/plain": [
              "array([0., 0., 0., 0., 0., 0., 0., 0., 0., 0., 0., 0., 0., 0., 0., 0., 0.,\n",
              "       0., 0., 0., 0., 0., 0., 0., 0., 0., 0., 0., 0., 0.])"
            ]
          },
          "execution_count": 23,
          "metadata": {},
          "output_type": "execute_result"
        }
      ],
      "source": [
        "# Array de zeros com np.zeros(n)\n",
        "np.zeros(30)"
      ]
    },
    {
      "cell_type": "code",
      "execution_count": null,
      "metadata": {
        "ExecuteTime": {
          "end_time": "2020-01-04T20:58:11.021471Z",
          "start_time": "2020-01-04T20:58:11.015480Z"
        },
        "id": "hJckVBUYlShL",
        "outputId": "a4147125-4777-4a4b-d1e2-c09b1232c9e1"
      },
      "outputs": [
        {
          "data": {
            "text/plain": [
              "array([1., 1., 1., 1., 1., 1., 1., 1., 1., 1., 1., 1., 1., 1., 1.])"
            ]
          },
          "execution_count": 24,
          "metadata": {},
          "output_type": "execute_result"
        }
      ],
      "source": [
        "# Criando array só com '1's\n",
        "np.ones(15)"
      ]
    },
    {
      "cell_type": "code",
      "execution_count": null,
      "metadata": {
        "id": "w5nN9PwMlShL",
        "outputId": "c9ee3a01-2f29-401a-b7be-3727a91bb928"
      },
      "outputs": [
        {
          "data": {
            "text/plain": [
              "[0, 1, 2, 3, 4, 5, 6, 7, 8, 9]"
            ]
          },
          "execution_count": 26,
          "metadata": {},
          "output_type": "execute_result"
        }
      ],
      "source": [
        "list(range(10))"
      ]
    },
    {
      "cell_type": "code",
      "execution_count": null,
      "metadata": {
        "id": "6q3feG12lShM",
        "outputId": "54e86ad8-ed86-4a3d-d349-7472907d3235"
      },
      "outputs": [
        {
          "data": {
            "text/plain": [
              "array([0, 1, 2, 3, 4, 5, 6, 7, 8, 9])"
            ]
          },
          "execution_count": 27,
          "metadata": {},
          "output_type": "execute_result"
        }
      ],
      "source": [
        "np.array(list(range(10)))"
      ]
    },
    {
      "cell_type": "markdown",
      "metadata": {
        "id": "qALaM8vzlShM"
      },
      "source": [
        "[numpy arange](https://numpy.org/doc/stable/reference/generated/numpy.arange.html#numpy-arange)"
      ]
    },
    {
      "cell_type": "code",
      "execution_count": null,
      "metadata": {
        "ExecuteTime": {
          "end_time": "2020-01-04T18:51:19.342075Z",
          "start_time": "2020-01-04T18:51:19.337069Z"
        },
        "id": "zIw_N8VWlShM",
        "outputId": "3d076f62-736f-4d43-9137-6656d24b32ec"
      },
      "outputs": [
        {
          "data": {
            "text/plain": [
              "array([0, 1, 2, 3, 4, 5, 6, 7, 8, 9])"
            ]
          },
          "execution_count": 28,
          "metadata": {},
          "output_type": "execute_result"
        }
      ],
      "source": [
        "# Criando um array de números em sequência com o np.arange() - análogo ao range()\n",
        "np.arange(10)"
      ]
    },
    {
      "cell_type": "code",
      "execution_count": null,
      "metadata": {
        "id": "tDQhZHjolShQ",
        "outputId": "c7e99bcd-5e03-4c7f-e25b-633fe053e7b2"
      },
      "outputs": [
        {
          "data": {
            "text/plain": [
              "array([ 3,  8, 13, 18])"
            ]
          },
          "execution_count": 29,
          "metadata": {},
          "output_type": "execute_result"
        }
      ],
      "source": [
        "np.arange(3,20,5)"
      ]
    },
    {
      "cell_type": "code",
      "execution_count": null,
      "metadata": {
        "ExecuteTime": {
          "end_time": "2020-01-04T18:51:11.606461Z",
          "start_time": "2020-01-04T18:51:11.600472Z"
        },
        "id": "kZHy3S0ulShR"
      },
      "outputs": [],
      "source": [
        "arr = np.zeros(30)"
      ]
    },
    {
      "cell_type": "code",
      "execution_count": null,
      "metadata": {
        "id": "8WpypAH8lShR",
        "outputId": "b7b198df-62c9-4195-f009-267728fb0030"
      },
      "outputs": [
        {
          "data": {
            "text/plain": [
              "0.0"
            ]
          },
          "execution_count": 31,
          "metadata": {},
          "output_type": "execute_result"
        }
      ],
      "source": [
        "arr[0]"
      ]
    },
    {
      "cell_type": "code",
      "execution_count": null,
      "metadata": {
        "ExecuteTime": {
          "end_time": "2020-01-04T18:51:11.606461Z",
          "start_time": "2020-01-04T18:51:11.600472Z"
        },
        "id": "Bvt8Zs8NlShR",
        "outputId": "5091534f-b9c1-4015-c7ea-1a88e046be4b"
      },
      "outputs": [
        {
          "data": {
            "text/plain": [
              "numpy.float64"
            ]
          },
          "execution_count": 32,
          "metadata": {},
          "output_type": "execute_result"
        }
      ],
      "source": [
        "type(arr[0])"
      ]
    },
    {
      "cell_type": "code",
      "execution_count": null,
      "metadata": {
        "id": "KTICqDRGlShR",
        "outputId": "63eecff5-5b75-483c-e432-72076dacf84a"
      },
      "outputs": [
        {
          "data": {
            "text/plain": [
              "numpy.int32"
            ]
          },
          "execution_count": 33,
          "metadata": {},
          "output_type": "execute_result"
        }
      ],
      "source": [
        "arr = np.arange(10)\n",
        "type(arr[0])"
      ]
    },
    {
      "cell_type": "markdown",
      "metadata": {
        "id": "Xljv8iOOlShR"
      },
      "source": [
        "[numpy linspace](https://numpy.org/devdocs/reference/generated/numpy.linspace.html#numpy-linspace)"
      ]
    },
    {
      "cell_type": "code",
      "execution_count": null,
      "metadata": {
        "ExecuteTime": {
          "end_time": "2020-01-04T18:51:25.950769Z",
          "start_time": "2020-01-04T18:51:25.943781Z"
        },
        "id": "wHtZpLxglShR",
        "outputId": "e25806e6-3963-4e07-db48-ef5d7695c4d8"
      },
      "outputs": [
        {
          "data": {
            "text/plain": [
              "array([ 35.        ,  38.42105263,  41.84210526,  45.26315789,\n",
              "        48.68421053,  52.10526316,  55.52631579,  58.94736842,\n",
              "        62.36842105,  65.78947368,  69.21052632,  72.63157895,\n",
              "        76.05263158,  79.47368421,  82.89473684,  86.31578947,\n",
              "        89.73684211,  93.15789474,  96.57894737, 100.        ])"
            ]
          },
          "execution_count": 34,
          "metadata": {},
          "output_type": "execute_result"
        }
      ],
      "source": [
        "# np.linspace() - array com sequência de valores igualmente espaçados\n",
        "# primeiro argumento: inicio do intervalo\n",
        "# segundo argumento: fim do intervalo\n",
        "# terceiro argumento: número de valores\n",
        "arr = np.linspace(35, 100, 20)\n",
        "arr"
      ]
    },
    {
      "cell_type": "code",
      "execution_count": null,
      "metadata": {
        "ExecuteTime": {
          "end_time": "2020-01-04T18:51:34.656089Z",
          "start_time": "2020-01-04T18:51:34.649601Z"
        },
        "id": "ZstezWtylShR",
        "outputId": "105200a4-e5cb-4432-eba5-c9876686db84"
      },
      "outputs": [
        {
          "data": {
            "text/plain": [
              "array([0.61156053, 0.42978751, 0.2621593 , 0.32603323, 0.74293903,\n",
              "       0.93129273, 0.38292362, 0.30747729, 0.81065084, 0.36087546])"
            ]
          },
          "execution_count": 35,
          "metadata": {},
          "output_type": "execute_result"
        }
      ],
      "source": [
        "# np.random.rand()\n",
        "# array com valores aleatórios a partir de uma distribuição uniforme entre 0 e 1\n",
        "np.random.rand(10)"
      ]
    },
    {
      "cell_type": "markdown",
      "metadata": {
        "id": "vSEPuge-lShS"
      },
      "source": [
        "Gerar um array com **linspace** pode ser bastante útil quando queremos lidar com algumas situações em gráficos."
      ]
    },
    {
      "cell_type": "code",
      "execution_count": null,
      "metadata": {
        "id": "Xl71facnlShS",
        "outputId": "aca74846-1b43-4936-ed17-39c6371533cd"
      },
      "outputs": [
        {
          "data": {
            "text/plain": [
              "array([-200.        , -195.95959596, -191.91919192, -187.87878788,\n",
              "       -183.83838384, -179.7979798 , -175.75757576, -171.71717172,\n",
              "       -167.67676768, -163.63636364, -159.5959596 , -155.55555556,\n",
              "       -151.51515152, -147.47474747, -143.43434343, -139.39393939,\n",
              "       -135.35353535, -131.31313131, -127.27272727, -123.23232323,\n",
              "       -119.19191919, -115.15151515, -111.11111111, -107.07070707,\n",
              "       -103.03030303,  -98.98989899,  -94.94949495,  -90.90909091,\n",
              "        -86.86868687,  -82.82828283,  -78.78787879,  -74.74747475,\n",
              "        -70.70707071,  -66.66666667,  -62.62626263,  -58.58585859,\n",
              "        -54.54545455,  -50.50505051,  -46.46464646,  -42.42424242,\n",
              "        -38.38383838,  -34.34343434,  -30.3030303 ,  -26.26262626,\n",
              "        -22.22222222,  -18.18181818,  -14.14141414,  -10.1010101 ,\n",
              "         -6.06060606,   -2.02020202,    2.02020202,    6.06060606,\n",
              "         10.1010101 ,   14.14141414,   18.18181818,   22.22222222,\n",
              "         26.26262626,   30.3030303 ,   34.34343434,   38.38383838,\n",
              "         42.42424242,   46.46464646,   50.50505051,   54.54545455,\n",
              "         58.58585859,   62.62626263,   66.66666667,   70.70707071,\n",
              "         74.74747475,   78.78787879,   82.82828283,   86.86868687,\n",
              "         90.90909091,   94.94949495,   98.98989899,  103.03030303,\n",
              "        107.07070707,  111.11111111,  115.15151515,  119.19191919,\n",
              "        123.23232323,  127.27272727,  131.31313131,  135.35353535,\n",
              "        139.39393939,  143.43434343,  147.47474747,  151.51515152,\n",
              "        155.55555556,  159.5959596 ,  163.63636364,  167.67676768,\n",
              "        171.71717172,  175.75757576,  179.7979798 ,  183.83838384,\n",
              "        187.87878788,  191.91919192,  195.95959596,  200.        ])"
            ]
          },
          "execution_count": 36,
          "metadata": {},
          "output_type": "execute_result"
        }
      ],
      "source": [
        "x = np.linspace(-200,200,100)\n",
        "x"
      ]
    },
    {
      "cell_type": "code",
      "execution_count": null,
      "metadata": {
        "id": "aSGsgcG6lShS"
      },
      "outputs": [],
      "source": [
        "y = x**2"
      ]
    },
    {
      "cell_type": "code",
      "execution_count": null,
      "metadata": {
        "id": "1xrgbSxnlShS",
        "outputId": "1eebe548-05d3-4be4-bcd7-22430e3d040c"
      },
      "outputs": [
        {
          "data": {
            "text/plain": [
              "array([4.00000000e+04, 3.84001632e+04, 3.68329762e+04, 3.52984389e+04,\n",
              "       3.37965514e+04, 3.23273135e+04, 3.08907254e+04, 2.94867871e+04,\n",
              "       2.81154984e+04, 2.67768595e+04, 2.54708703e+04, 2.41975309e+04,\n",
              "       2.29568411e+04, 2.17488011e+04, 2.05734109e+04, 1.94306703e+04,\n",
              "       1.83205795e+04, 1.72431385e+04, 1.61983471e+04, 1.51862055e+04,\n",
              "       1.42067136e+04, 1.32598714e+04, 1.23456790e+04, 1.14641363e+04,\n",
              "       1.06152433e+04, 9.79900010e+03, 9.01540659e+03, 8.26446281e+03,\n",
              "       7.54616876e+03, 6.86052444e+03, 6.20752984e+03, 5.58718498e+03,\n",
              "       4.99948985e+03, 4.44444444e+03, 3.92204877e+03, 3.43230283e+03,\n",
              "       2.97520661e+03, 2.55076013e+03, 2.15896337e+03, 1.79981635e+03,\n",
              "       1.47331905e+03, 1.17947148e+03, 9.18273646e+02, 6.89725538e+02,\n",
              "       4.93827160e+02, 3.30578512e+02, 1.99979594e+02, 1.02030405e+02,\n",
              "       3.67309458e+01, 4.08121620e+00, 4.08121620e+00, 3.67309458e+01,\n",
              "       1.02030405e+02, 1.99979594e+02, 3.30578512e+02, 4.93827160e+02,\n",
              "       6.89725538e+02, 9.18273646e+02, 1.17947148e+03, 1.47331905e+03,\n",
              "       1.79981635e+03, 2.15896337e+03, 2.55076013e+03, 2.97520661e+03,\n",
              "       3.43230283e+03, 3.92204877e+03, 4.44444444e+03, 4.99948985e+03,\n",
              "       5.58718498e+03, 6.20752984e+03, 6.86052444e+03, 7.54616876e+03,\n",
              "       8.26446281e+03, 9.01540659e+03, 9.79900010e+03, 1.06152433e+04,\n",
              "       1.14641363e+04, 1.23456790e+04, 1.32598714e+04, 1.42067136e+04,\n",
              "       1.51862055e+04, 1.61983471e+04, 1.72431385e+04, 1.83205795e+04,\n",
              "       1.94306703e+04, 2.05734109e+04, 2.17488011e+04, 2.29568411e+04,\n",
              "       2.41975309e+04, 2.54708703e+04, 2.67768595e+04, 2.81154984e+04,\n",
              "       2.94867871e+04, 3.08907254e+04, 3.23273135e+04, 3.37965514e+04,\n",
              "       3.52984389e+04, 3.68329762e+04, 3.84001632e+04, 4.00000000e+04])"
            ]
          },
          "execution_count": 38,
          "metadata": {},
          "output_type": "execute_result"
        }
      ],
      "source": [
        "y"
      ]
    },
    {
      "cell_type": "code",
      "execution_count": null,
      "metadata": {
        "id": "moTfbWOzlShS",
        "outputId": "644de2a5-3683-4cb9-e074-a95defd7ee9d"
      },
      "outputs": [
        {
          "data": {
            "text/plain": [
              "(100,)"
            ]
          },
          "execution_count": 40,
          "metadata": {},
          "output_type": "execute_result"
        }
      ],
      "source": [
        "x.shape # dimensão do array"
      ]
    },
    {
      "cell_type": "code",
      "execution_count": null,
      "metadata": {
        "id": "qpkDb1q4lShS",
        "outputId": "aec33551-1918-459c-dc6b-b4928bf14804"
      },
      "outputs": [
        {
          "data": {
            "text/plain": [
              "100"
            ]
          },
          "execution_count": 41,
          "metadata": {},
          "output_type": "execute_result"
        }
      ],
      "source": [
        "len(x)"
      ]
    },
    {
      "cell_type": "code",
      "execution_count": null,
      "metadata": {
        "id": "r6N290Z-lShT",
        "outputId": "3157d444-ac8b-4658-e0ea-f13d4b00e7ea"
      },
      "outputs": [
        {
          "data": {
            "text/plain": [
              "<matplotlib.legend.Legend at 0x1fb7787cf70>"
            ]
          },
          "execution_count": 46,
          "metadata": {},
          "output_type": "execute_result"
        },
        {
          "data": {
            "image/png": "[encoded data removed]",
            "text/plain": [
              "<Figure size 432x288 with 1 Axes>"
            ]
          },
          "metadata": {
            "needs_background": "light"
          },
          "output_type": "display_data"
        }
      ],
      "source": [
        "import matplotlib.pyplot as plt\n",
        "\n",
        "x = np.linspace(-200,200,100)\n",
        "y = x**2\n",
        "y2 = np.zeros(len(x)) + 10000\n",
        "y3 = np.zeros(len(x)) + 20000\n",
        "\n",
        "plt.plot(x,y)\n",
        "plt.plot(x,y2, '-.r')\n",
        "plt.plot(x,y3, '-.r')\n",
        "\n",
        "plt.legend([\"Dados originais\"])"
      ]
    },
    {
      "cell_type": "markdown",
      "metadata": {
        "id": "nJcqKLstlShT"
      },
      "source": [
        "### Números aleatórios"
      ]
    },
    {
      "cell_type": "markdown",
      "metadata": {
        "id": "d9VLwzIclShT"
      },
      "source": [
        "A biblioteca numpy também traz o módulo **random**, que nos permite trabalhar com amostras aleatórias."
      ]
    },
    {
      "cell_type": "markdown",
      "metadata": {
        "id": "OSLjAmQglShT"
      },
      "source": [
        "<img src = \"https://numpy.org/devdocs/_images/np_ones_zeros_random.png\" />"
      ]
    },
    {
      "cell_type": "markdown",
      "metadata": {
        "id": "BjPhgvoBlShT"
      },
      "source": [
        "Vamos visualizar, por exemplo, como é a distribuição de números gerados aleatoriamente com este módulo."
      ]
    },
    {
      "cell_type": "code",
      "execution_count": null,
      "metadata": {
        "id": "0Ikz9XwklShT",
        "outputId": "017cf969-4690-49b6-cabb-73e1c2bdd7b0"
      },
      "outputs": [
        {
          "data": {
            "text/plain": [
              "array([0.58187105])"
            ]
          },
          "execution_count": 51,
          "metadata": {},
          "output_type": "execute_result"
        }
      ],
      "source": [
        "np.random.rand(1)"
      ]
    },
    {
      "cell_type": "code",
      "execution_count": null,
      "metadata": {
        "id": "p5XjVKlMlShU",
        "outputId": "fd17dcd7-49fe-4498-a160-c58d293cce79"
      },
      "outputs": [
        {
          "data": {
            "text/plain": [
              "<AxesSubplot: ylabel='Count'>"
            ]
          },
          "execution_count": 57,
          "metadata": {},
          "output_type": "execute_result"
        },
        {
          "data": {
            "image/png": "[encoded data removed]",
            "text/plain": [
              "<Figure size 432x288 with 1 Axes>"
            ]
          },
          "metadata": {
            "needs_background": "light"
          },
          "output_type": "display_data"
        }
      ],
      "source": [
        "import seaborn as sns\n",
        "x = np.random.rand(1000000)\n",
        "sns.histplot(x)"
      ]
    },
    {
      "cell_type": "code",
      "execution_count": null,
      "metadata": {
        "id": "-yKRdSZFlShU",
        "outputId": "bef8c8d0-419c-4c0a-c031-d12d4ba5ce89"
      },
      "outputs": [
        {
          "data": {
            "text/plain": [
              "array([0.14161518, 0.92322549, 0.82749221, 0.92064318, 0.69048669,\n",
              "       0.39594252, 0.25021492, 0.45420881, 0.08048069, 0.1602789 ,\n",
              "       0.19242961, 0.98417418, 0.97213203, 0.9167697 , 0.71432202,\n",
              "       0.68496259, 0.83988109, 0.6135417 , 0.2890301 , 0.82117564,\n",
              "       0.83823474, 0.24793798, 0.02919801, 0.13862869, 0.3629266 ,\n",
              "       0.55622657, 0.34322877, 0.81619205, 0.53552493, 0.0339872 ,\n",
              "       0.34271027, 0.59379285, 0.54472823, 0.09839664, 0.63277921,\n",
              "       0.26813148, 0.42362011, 0.96482804, 0.78117369, 0.14990886,\n",
              "       0.02791423, 0.1792399 , 0.16348817, 0.66601371, 0.24343217,\n",
              "       0.93341047, 0.36257695, 0.80177297, 0.77913361, 0.67871342,\n",
              "       0.07790592, 0.1172248 , 0.64652053, 0.00487651, 0.7419419 ,\n",
              "       0.73851012, 0.43769223, 0.95475808, 0.45365097, 0.05711854,\n",
              "       0.04319719, 0.083416  , 0.94374727, 0.1500892 , 0.94449591,\n",
              "       0.09761899, 0.2871688 , 0.99410059, 0.26253197, 0.16102095,\n",
              "       0.73743948, 0.18894405, 0.31833561, 0.47817887, 0.76758868,\n",
              "       0.59875649, 0.21815122, 0.08511215, 0.234909  , 0.43997178,\n",
              "       0.38333291, 0.6015649 , 0.9667825 , 0.40640654, 0.23525388,\n",
              "       0.26530832, 0.18377179, 0.11710091, 0.05427495, 0.44463295,\n",
              "       0.84115776, 0.04956162, 0.98070247, 0.14842048, 0.78713307,\n",
              "       0.69926258, 0.41354746, 0.0603004 , 0.87361336, 0.43335147])"
            ]
          },
          "execution_count": 53,
          "metadata": {},
          "output_type": "execute_result"
        }
      ],
      "source": [
        "x"
      ]
    },
    {
      "cell_type": "markdown",
      "metadata": {
        "id": "Z0lw4KNslShU"
      },
      "source": [
        "Dentro deste módulo, há vários geradores de número aleatórios para fins mais especificos. No exemplo abaixo, trabalhamos com a função *randint*, que gera somente números inteiros no intervalo especificado."
      ]
    },
    {
      "cell_type": "code",
      "execution_count": null,
      "metadata": {
        "ExecuteTime": {
          "end_time": "2021-11-28T22:51:37.311742Z",
          "start_time": "2021-11-28T22:51:35.464966Z"
        },
        "id": "YfZ16B5KlShU",
        "outputId": "f8ab8f10-bcb6-48d9-d615-5e3295c05b23"
      },
      "outputs": [
        {
          "data": {
            "text/plain": [
              "array([53, 40, 70, 62, 57, 65, 48, 43, 25,  6])"
            ]
          },
          "execution_count": 61,
          "metadata": {},
          "output_type": "execute_result"
        }
      ],
      "source": [
        "# np.random.randint()\n",
        "# array com inteiros aleatórios dentro de um intervalo especificado\n",
        "# argumentos: inicio do intervalo, fim do intervalo (exclusivo), quantidade de numeros\n",
        "np.random.randint(0,100,10)"
      ]
    },
    {
      "cell_type": "code",
      "execution_count": null,
      "metadata": {
        "id": "Aqs7KuemlShU",
        "outputId": "37921e12-5573-421b-e6f6-958c4e00c391"
      },
      "outputs": [
        {
          "data": {
            "text/plain": [
              "<AxesSubplot: ylabel='Count'>"
            ]
          },
          "execution_count": 63,
          "metadata": {},
          "output_type": "execute_result"
        },
        {
          "data": {
            "image/png": "[encoded data removed]",
            "text/plain": [
              "<Figure size 432x288 with 1 Axes>"
            ]
          },
          "metadata": {
            "needs_background": "light"
          },
          "output_type": "display_data"
        }
      ],
      "source": [
        "x = np.random.randint(0,100,1000000)\n",
        "sns.histplot(x)"
      ]
    },
    {
      "cell_type": "markdown",
      "metadata": {
        "id": "lL7HvhrAlShU"
      },
      "source": [
        "Também conseguimos trabalhar com **distribuições estatísticas de probabilidade**. Vejamos, por exemplo, como é possível gerar números aleatórios que obedeçam a uma distribuição normal."
      ]
    },
    {
      "cell_type": "markdown",
      "metadata": {
        "id": "FRb0z2prlShU"
      },
      "source": [
        "<img src = \"https://www.allaboutcircuits.com/uploads/articles/an-introduction-to-the-normal-distribution-in-electrical-engineerin-rk-aac-image1.jpg\" />"
      ]
    },
    {
      "cell_type": "code",
      "execution_count": null,
      "metadata": {
        "scrolled": true,
        "id": "Pws-qqLVlShU",
        "outputId": "1d88ccd8-d7fd-44e9-edf7-7489427bce3d"
      },
      "outputs": [
        {
          "data": {
            "text/plain": [
              "array([ 0.31902652, -0.53997245, -1.25039562,  3.24367618, -0.18967343,\n",
              "        0.55297323, -0.66031284,  0.40121145, -1.77198615, -0.30331391,\n",
              "        0.73943905,  0.30116255, -0.97555195, -0.89275102, -2.1862807 ,\n",
              "       -0.9937718 ,  1.06952286,  0.03558456, -0.26081556, -1.39706106])"
            ]
          },
          "execution_count": 64,
          "metadata": {},
          "output_type": "execute_result"
        }
      ],
      "source": [
        "# np.random.normal() # < - gera a partir de uma distribuição normal aleatoriamente\n",
        "# argumentos: média, desvio-padrão, quantidade de números\n",
        "np.random.normal(0, 1, 20)"
      ]
    },
    {
      "cell_type": "markdown",
      "metadata": {
        "id": "RAYNo_arlShV"
      },
      "source": [
        "__Uma pequena olhada...__"
      ]
    },
    {
      "cell_type": "code",
      "execution_count": null,
      "metadata": {
        "id": "7u4KrNp6lShV",
        "outputId": "06dbb9c5-ec22-4827-eeaf-e108574bc49e"
      },
      "outputs": [
        {
          "data": {
            "text/plain": [
              "<AxesSubplot: ylabel='Count'>"
            ]
          },
          "execution_count": 69,
          "metadata": {},
          "output_type": "execute_result"
        },
        {
          "data": {
            "image/png": "[encoded data removed]",
            "text/plain": [
              "<Figure size 432x288 with 1 Axes>"
            ]
          },
          "metadata": {
            "needs_background": "light"
          },
          "output_type": "display_data"
        }
      ],
      "source": [
        "x = np.random.normal(0,1,100000)\n",
        "sns.histplot(x)"
      ]
    },
    {
      "cell_type": "code",
      "execution_count": null,
      "metadata": {
        "id": "lENm8qtklShV",
        "outputId": "b574e452-a160-4ef2-fd89-4de98a43e9b7"
      },
      "outputs": [
        {
          "data": {
            "text/plain": [
              "0.5685781248057602"
            ]
          },
          "execution_count": 71,
          "metadata": {},
          "output_type": "execute_result"
        }
      ],
      "source": [
        "np.random.rand(1)[0]"
      ]
    },
    {
      "cell_type": "markdown",
      "metadata": {
        "id": "8OAosov3lShV"
      },
      "source": [
        "#### Indexação\n",
        "\n",
        "É possível acessar elementos individuais dos arrays pelos **índices**, da mesma forma que fazemos com listas."
      ]
    },
    {
      "cell_type": "code",
      "execution_count": null,
      "metadata": {
        "id": "wQnjME0qlShV",
        "outputId": "04aaba58-e9a5-431c-bc5a-8f1e229e4129"
      },
      "outputs": [
        {
          "data": {
            "text/plain": [
              "array([ 2,  5,  8, 11, 14, 17, 20, 23, 26, 29, 32, 35, 38, 41, 44, 47])"
            ]
          },
          "execution_count": 72,
          "metadata": {},
          "output_type": "execute_result"
        }
      ],
      "source": [
        "# Criando um array sequencial\n",
        "arr = np.arange(2,50,3) # inicio = 2; fim = 50; step = 3\n",
        "arr"
      ]
    },
    {
      "cell_type": "code",
      "execution_count": null,
      "metadata": {
        "ExecuteTime": {
          "end_time": "2020-01-04T20:58:31.727960Z",
          "start_time": "2020-01-04T20:58:31.719976Z"
        },
        "id": "GEL0mIGAlShV",
        "outputId": "74436597-c48c-49e6-b417-72d23ee583d8"
      },
      "outputs": [
        {
          "data": {
            "text/plain": [
              "8"
            ]
          },
          "execution_count": 73,
          "metadata": {},
          "output_type": "execute_result"
        }
      ],
      "source": [
        "# acessando cada elemento\n",
        "arr[2] # <- elemento de índice 2"
      ]
    },
    {
      "cell_type": "code",
      "execution_count": null,
      "metadata": {
        "id": "5LqjWpZdlShW",
        "outputId": "5c3dc2e2-cec4-4684-cfb7-b18b9f527a39"
      },
      "outputs": [
        {
          "data": {
            "text/plain": [
              "11"
            ]
          },
          "execution_count": 74,
          "metadata": {},
          "output_type": "execute_result"
        }
      ],
      "source": [
        "arr[3]"
      ]
    },
    {
      "cell_type": "code",
      "execution_count": null,
      "metadata": {
        "id": "0OlYMrkQlShW",
        "outputId": "fef41b20-ad22-46d6-8d3c-280ee2c0f1b9"
      },
      "outputs": [
        {
          "data": {
            "text/plain": [
              "2"
            ]
          },
          "execution_count": 75,
          "metadata": {},
          "output_type": "execute_result"
        }
      ],
      "source": [
        "arr[0]"
      ]
    },
    {
      "cell_type": "code",
      "execution_count": null,
      "metadata": {
        "id": "J8I5DFvzlShW",
        "outputId": "8402983a-c957-46cf-a8ce-be283c89bc4a"
      },
      "outputs": [
        {
          "data": {
            "text/plain": [
              "38"
            ]
          },
          "execution_count": 76,
          "metadata": {},
          "output_type": "execute_result"
        }
      ],
      "source": [
        "# índices negativos\n",
        "arr[-4]"
      ]
    },
    {
      "cell_type": "code",
      "execution_count": null,
      "metadata": {
        "ExecuteTime": {
          "end_time": "2020-01-04T20:59:25.253415Z",
          "start_time": "2020-01-04T20:59:25.247925Z"
        },
        "id": "W7dEHsxUlShW",
        "outputId": "aea44eb5-a3d1-4e6b-aea9-b323f566de27"
      },
      "outputs": [
        {
          "data": {
            "text/plain": [
              "array([ 8, 11, 14])"
            ]
          },
          "execution_count": 77,
          "metadata": {},
          "output_type": "execute_result"
        }
      ],
      "source": [
        "# pegando fatias do array (slicing)\n",
        "arr[2:5]"
      ]
    },
    {
      "cell_type": "code",
      "execution_count": null,
      "metadata": {
        "id": "kldENzlNlShX",
        "outputId": "b02e5beb-b953-4484-f4c1-667b2a224d3a"
      },
      "outputs": [
        {
          "data": {
            "text/plain": [
              "14"
            ]
          },
          "execution_count": 78,
          "metadata": {},
          "output_type": "execute_result"
        }
      ],
      "source": [
        "arr[4]"
      ]
    },
    {
      "cell_type": "code",
      "execution_count": null,
      "metadata": {
        "id": "0QoNv9CHlShX",
        "outputId": "9506b2bc-83d6-4192-afc1-48a4ffab0ef9"
      },
      "outputs": [
        {
          "data": {
            "text/plain": [
              "array([ 2, 17, 32, 47])"
            ]
          },
          "execution_count": 79,
          "metadata": {},
          "output_type": "execute_result"
        }
      ],
      "source": [
        "arr[::5]"
      ]
    },
    {
      "cell_type": "markdown",
      "metadata": {
        "id": "Ye0J6kwXlShX"
      },
      "source": [
        "<img src = \"https://numpy.org/devdocs/_images/np_indexing.png\" />"
      ]
    },
    {
      "cell_type": "markdown",
      "metadata": {
        "id": "xHiNZ1G7lShX"
      },
      "source": [
        "#### Operações simples\n",
        "\n",
        "É possível fazer operações matemáticas **elemento a elemento** com os arrays, de forma bem simples:"
      ]
    },
    {
      "cell_type": "code",
      "execution_count": null,
      "metadata": {
        "id": "tG_xKASMlShX",
        "outputId": "b15aa80f-a7e8-4c4f-e829-8f8b72b00507"
      },
      "outputs": [
        {
          "data": {
            "text/plain": [
              "[1, 3, 45, 57, 23, 89, 10]"
            ]
          },
          "execution_count": 80,
          "metadata": {},
          "output_type": "execute_result"
        }
      ],
      "source": [
        "lista = [1, 3, 45, 57, 23, 89, 10]\n",
        "lista"
      ]
    },
    {
      "cell_type": "code",
      "execution_count": null,
      "metadata": {
        "id": "6xNuOkA8lShX",
        "outputId": "c1204452-003c-46d2-eea6-df0b158e042e"
      },
      "outputs": [
        {
          "data": {
            "text/plain": [
              "[1, 3, 45, 57, 23, 89, 10, 1, 3, 45, 57, 23, 89, 10]"
            ]
          },
          "execution_count": 81,
          "metadata": {},
          "output_type": "execute_result"
        }
      ],
      "source": [
        "lista*2"
      ]
    },
    {
      "cell_type": "code",
      "execution_count": null,
      "metadata": {
        "id": "u0SEV2YllShX",
        "outputId": "b4d2c4b7-eaf5-4a52-8549-c976c6e05a34"
      },
      "outputs": [
        {
          "ename": "TypeError",
          "evalue": "can only concatenate list (not \"int\") to list",
          "output_type": "error",
          "traceback": [
            "\u001b[1;31m---------------------------------------------------------------------------\u001b[0m",
            "\u001b[1;31mTypeError\u001b[0m                                 Traceback (most recent call last)",
            "\u001b[1;32m<ipython-input-82-462b537a8f9e>\u001b[0m in \u001b[0;36m<module>\u001b[1;34m\u001b[0m\n\u001b[1;32m----> 1\u001b[1;33m \u001b[0mlista\u001b[0m \u001b[1;33m+\u001b[0m \u001b[1;36m2\u001b[0m\u001b[1;33m\u001b[0m\u001b[1;33m\u001b[0m\u001b[0m\n\u001b[0m",
            "\u001b[1;31mTypeError\u001b[0m: can only concatenate list (not \"int\") to list"
          ]
        }
      ],
      "source": [
        "lista + 2 # + -> concatena"
      ]
    },
    {
      "cell_type": "code",
      "execution_count": null,
      "metadata": {
        "id": "fO8OmppflShX",
        "outputId": "5608455c-cf61-45fa-9016-5507e70f5792"
      },
      "outputs": [
        {
          "data": {
            "text/plain": [
              "[1, 3, 45, 57, 23, 89, 10, 2]"
            ]
          },
          "execution_count": 83,
          "metadata": {},
          "output_type": "execute_result"
        }
      ],
      "source": [
        "lista + [2]"
      ]
    },
    {
      "cell_type": "code",
      "execution_count": null,
      "metadata": {
        "id": "aizNt7QilShZ",
        "outputId": "9b2c30f2-649f-437c-8a1f-c25d0bbf6bca"
      },
      "outputs": [
        {
          "data": {
            "text/plain": [
              "[1, 9, 2025, 3249, 529, 7921, 100]"
            ]
          },
          "execution_count": 84,
          "metadata": {},
          "output_type": "execute_result"
        }
      ],
      "source": [
        "lista2 = []\n",
        "\n",
        "for i in lista:\n",
        "    lista2.append(i**2)\n",
        "lista2"
      ]
    },
    {
      "cell_type": "markdown",
      "metadata": {
        "ExecuteTime": {
          "end_time": "2020-01-04T20:59:48.500686Z",
          "start_time": "2020-01-04T20:59:48.495192Z"
        },
        "id": "OZpF2a0mlShZ"
      },
      "source": [
        "Em numpy, as operações básicas (+, -, *, /) funcionam elemento a elemento"
      ]
    },
    {
      "cell_type": "code",
      "execution_count": null,
      "metadata": {
        "id": "tSs-g9zJlSha",
        "outputId": "642981af-333b-4613-ef72-6c93db2b1ee2"
      },
      "outputs": [
        {
          "data": {
            "text/plain": [
              "array([ 1,  3, 45, 57, 23, 89, 10])"
            ]
          },
          "execution_count": 85,
          "metadata": {},
          "output_type": "execute_result"
        }
      ],
      "source": [
        "arr = np.array(lista)\n",
        "arr"
      ]
    },
    {
      "cell_type": "code",
      "execution_count": null,
      "metadata": {
        "id": "eBNvc4nnlSha",
        "outputId": "12d3e672-087a-4bda-fe73-40178c7fe73c"
      },
      "outputs": [
        {
          "data": {
            "text/plain": [
              "array([  2,   6,  90, 114,  46, 178,  20])"
            ]
          },
          "execution_count": 86,
          "metadata": {},
          "output_type": "execute_result"
        }
      ],
      "source": [
        "arr*2"
      ]
    },
    {
      "cell_type": "code",
      "execution_count": null,
      "metadata": {
        "id": "XSsS-WpblSha",
        "outputId": "e9435535-1c51-4131-9720-fcd41dfcd84e"
      },
      "outputs": [
        {
          "data": {
            "text/plain": [
              "array([   1,    9, 2025, 3249,  529, 7921,  100])"
            ]
          },
          "execution_count": 87,
          "metadata": {},
          "output_type": "execute_result"
        }
      ],
      "source": [
        "arr**2"
      ]
    },
    {
      "cell_type": "code",
      "execution_count": null,
      "metadata": {
        "id": "u3lF68lUlSha",
        "outputId": "12295362-8ff0-4a00-c82a-472416cd2397"
      },
      "outputs": [
        {
          "data": {
            "text/plain": [
              "array([ 3,  5, 47, 59, 25, 91, 12])"
            ]
          },
          "execution_count": 88,
          "metadata": {},
          "output_type": "execute_result"
        }
      ],
      "source": [
        "arr + 2"
      ]
    },
    {
      "cell_type": "code",
      "execution_count": null,
      "metadata": {
        "id": "S_NkjpFvlSha",
        "outputId": "09828027-e4bd-48d3-b08b-f17f05ba7407"
      },
      "outputs": [
        {
          "data": {
            "text/plain": [
              "array([-1,  1, 43, 55, 21, 87,  8])"
            ]
          },
          "execution_count": 89,
          "metadata": {},
          "output_type": "execute_result"
        }
      ],
      "source": [
        "arr - 2"
      ]
    },
    {
      "cell_type": "code",
      "execution_count": null,
      "metadata": {
        "ExecuteTime": {
          "end_time": "2020-01-04T18:51:00.749152Z",
          "start_time": "2020-01-04T18:51:00.743648Z"
        },
        "id": "57kA6OBqlSha",
        "outputId": "84c811cd-d0e3-4095-dbc7-f30bbd836420"
      },
      "outputs": [
        {
          "data": {
            "text/plain": [
              "array([0.05, 0.15, 2.25, 2.85, 1.15, 4.45, 0.5 ])"
            ]
          },
          "execution_count": 90,
          "metadata": {},
          "output_type": "execute_result"
        }
      ],
      "source": [
        "arr/20"
      ]
    },
    {
      "cell_type": "markdown",
      "metadata": {
        "id": "Q_vcmC3ulSha"
      },
      "source": [
        "#### Podemos também fazer operações elemento a elemento entre dois arrays"
      ]
    },
    {
      "cell_type": "code",
      "execution_count": null,
      "metadata": {
        "id": "QLe0KGD4lSha"
      },
      "outputs": [],
      "source": [
        "lista1 = [4, 5, 6]\n",
        "lista2 = [10, 20, 30]\n",
        "\n",
        "lista3 = []\n",
        "\n",
        "for indice in range(len(lista1)):\n",
        "    lista3.append(lista1[indice] + lista2[indice])"
      ]
    },
    {
      "cell_type": "code",
      "execution_count": null,
      "metadata": {
        "id": "PpP7AC0AlSha",
        "outputId": "ebb20cd4-39ac-44d5-e80f-1541ee01f299"
      },
      "outputs": [
        {
          "data": {
            "text/plain": [
              "[14, 25, 36]"
            ]
          },
          "execution_count": 92,
          "metadata": {},
          "output_type": "execute_result"
        }
      ],
      "source": [
        "lista3"
      ]
    },
    {
      "cell_type": "code",
      "execution_count": null,
      "metadata": {
        "id": "XE7BNVBPlShb",
        "outputId": "cef92efe-bd71-4125-b102-1428bce7d251"
      },
      "outputs": [
        {
          "data": {
            "text/plain": [
              "[4, 5, 6, 10, 20, 30]"
            ]
          },
          "execution_count": 93,
          "metadata": {},
          "output_type": "execute_result"
        }
      ],
      "source": [
        "lista1 + lista2"
      ]
    },
    {
      "cell_type": "code",
      "execution_count": null,
      "metadata": {
        "id": "0Gr-fN6tlShb"
      },
      "outputs": [],
      "source": [
        "# Com arrays\n",
        "arr1 = np.array([4,5,6])\n",
        "arr2 = np.array([10,20,30])"
      ]
    },
    {
      "cell_type": "code",
      "execution_count": null,
      "metadata": {
        "id": "N-OKA6CPlShb",
        "outputId": "a02346d2-18df-4079-b7ae-a648cedd8c02"
      },
      "outputs": [
        {
          "data": {
            "text/plain": [
              "array([4, 5, 6])"
            ]
          },
          "execution_count": 95,
          "metadata": {},
          "output_type": "execute_result"
        }
      ],
      "source": [
        "arr1"
      ]
    },
    {
      "cell_type": "code",
      "execution_count": null,
      "metadata": {
        "id": "F_ke1TiUlShb",
        "outputId": "dc79cae3-d215-4797-d238-e80c059cd90d"
      },
      "outputs": [
        {
          "data": {
            "text/plain": [
              "array([10, 20, 30])"
            ]
          },
          "execution_count": 96,
          "metadata": {},
          "output_type": "execute_result"
        }
      ],
      "source": [
        "arr2"
      ]
    },
    {
      "cell_type": "code",
      "execution_count": null,
      "metadata": {
        "id": "j5VUwWLMlShb",
        "outputId": "4ebd6b2d-3da1-4f3c-fc5a-981ed2ccbf89"
      },
      "outputs": [
        {
          "data": {
            "text/plain": [
              "array([14, 25, 36])"
            ]
          },
          "execution_count": 97,
          "metadata": {},
          "output_type": "execute_result"
        }
      ],
      "source": [
        "arr1 + arr2"
      ]
    },
    {
      "cell_type": "code",
      "execution_count": null,
      "metadata": {
        "ExecuteTime": {
          "end_time": "2020-01-04T20:59:56.078588Z",
          "start_time": "2020-01-04T20:59:56.071600Z"
        },
        "id": "FVsDMqm4lShb",
        "outputId": "51173023-7a36-4b94-f566-c776c7f12124"
      },
      "outputs": [
        {
          "data": {
            "text/plain": [
              "array([ 40, 100, 180])"
            ]
          },
          "execution_count": 98,
          "metadata": {},
          "output_type": "execute_result"
        }
      ],
      "source": [
        "arr1*arr2"
      ]
    },
    {
      "cell_type": "code",
      "execution_count": null,
      "metadata": {
        "ExecuteTime": {
          "end_time": "2020-01-04T20:59:56.416959Z",
          "start_time": "2020-01-04T20:59:56.410470Z"
        },
        "id": "bTXAVkzjlShb",
        "outputId": "e1d1dbc3-190e-4d98-970f-5f4e64742041"
      },
      "outputs": [
        {
          "data": {
            "text/plain": [
              "array([ -6, -15, -24])"
            ]
          },
          "execution_count": 99,
          "metadata": {},
          "output_type": "execute_result"
        }
      ],
      "source": [
        "arr1 - arr2"
      ]
    },
    {
      "cell_type": "code",
      "execution_count": null,
      "metadata": {
        "ExecuteTime": {
          "end_time": "2020-01-04T20:59:56.773310Z",
          "start_time": "2020-01-04T20:59:56.768304Z"
        },
        "id": "g7PcTxStlShc",
        "outputId": "620d9d5a-d60f-4897-bf95-a38dcade2743"
      },
      "outputs": [
        {
          "data": {
            "text/plain": [
              "array([0.4 , 0.25, 0.2 ])"
            ]
          },
          "execution_count": 100,
          "metadata": {},
          "output_type": "execute_result"
        }
      ],
      "source": [
        "arr1/arr2"
      ]
    },
    {
      "cell_type": "code",
      "execution_count": null,
      "metadata": {
        "id": "CEehm9JLlShc",
        "outputId": "f86cb532-bcdd-431d-eb94-9265eb4c11df"
      },
      "outputs": [
        {
          "data": {
            "text/plain": [
              "[20, -10]"
            ]
          },
          "execution_count": 101,
          "metadata": {},
          "output_type": "execute_result"
        }
      ],
      "source": [
        "arr3 = [20, -10]\n",
        "arr3"
      ]
    },
    {
      "cell_type": "code",
      "execution_count": null,
      "metadata": {
        "id": "ShU-d48KlShc",
        "outputId": "839d40a0-7565-4ca7-c497-8f021a87007e"
      },
      "outputs": [
        {
          "ename": "ValueError",
          "evalue": "operands could not be broadcast together with shapes (3,) (2,) ",
          "output_type": "error",
          "traceback": [
            "\u001b[1;31m---------------------------------------------------------------------------\u001b[0m",
            "\u001b[1;31mValueError\u001b[0m                                Traceback (most recent call last)",
            "\u001b[1;32m<ipython-input-102-9cd496795bf2>\u001b[0m in \u001b[0;36m<module>\u001b[1;34m\u001b[0m\n\u001b[1;32m----> 1\u001b[1;33m \u001b[0marr1\u001b[0m \u001b[1;33m+\u001b[0m \u001b[0marr3\u001b[0m\u001b[1;33m\u001b[0m\u001b[1;33m\u001b[0m\u001b[0m\n\u001b[0m",
            "\u001b[1;31mValueError\u001b[0m: operands could not be broadcast together with shapes (3,) (2,) "
          ]
        }
      ],
      "source": [
        "arr1 + arr3"
      ]
    },
    {
      "cell_type": "markdown",
      "metadata": {
        "id": "aauRYy8BlShc"
      },
      "source": [
        "#### Métodos\n",
        "\n",
        "Vamos agora introduzir algums métodos muito úteis que são aplicados a arrays. Muitos destes serão herdados pelo pandas, então os usaremos bastante no futuro próximo!"
      ]
    },
    {
      "cell_type": "code",
      "execution_count": null,
      "metadata": {
        "id": "KmCpZ-B2lShc",
        "outputId": "b03caebd-9df3-43e6-be6c-4024a2add44d"
      },
      "outputs": [
        {
          "data": {
            "text/plain": [
              "array([0.16771011])"
            ]
          },
          "execution_count": 103,
          "metadata": {},
          "output_type": "execute_result"
        }
      ],
      "source": [
        "np.random.rand(1)"
      ]
    },
    {
      "cell_type": "code",
      "execution_count": null,
      "metadata": {
        "id": "ZH9ASZvJlShd",
        "outputId": "543dde70-739e-44c6-b12d-2ac466eeedf5"
      },
      "outputs": [
        {
          "data": {
            "text/plain": [
              "array([0.00079254])"
            ]
          },
          "execution_count": 104,
          "metadata": {},
          "output_type": "execute_result"
        }
      ],
      "source": [
        "np.random.rand(1)"
      ]
    },
    {
      "cell_type": "markdown",
      "metadata": {
        "id": "roVbu15KlShd"
      },
      "source": [
        "Outras denominações:\n",
        "    \n",
        "`seed`, `random_state`"
      ]
    },
    {
      "cell_type": "code",
      "execution_count": null,
      "metadata": {
        "id": "Wa19iOASlShd",
        "outputId": "b1c877bb-5fcf-4be2-8a18-0c1d4aeac3ba"
      },
      "outputs": [
        {
          "data": {
            "text/plain": [
              "array([0.22199317, 0.87073231])"
            ]
          },
          "execution_count": 122,
          "metadata": {},
          "output_type": "execute_result"
        }
      ],
      "source": [
        "# Vamos fixar a geração dos números aleatórios\n",
        "np.random.seed(5)\n",
        "np.random.rand(2)"
      ]
    },
    {
      "cell_type": "code",
      "execution_count": null,
      "metadata": {
        "ExecuteTime": {
          "end_time": "2020-01-04T21:00:36.354683Z",
          "start_time": "2020-01-04T21:00:36.350191Z"
        },
        "id": "nqQyD8z9lShd",
        "outputId": "dfcb81f6-50a8-48f8-fb2b-079c69ca962a"
      },
      "outputs": [
        {
          "data": {
            "text/plain": [
              "array([0.22199317, 0.87073231])"
            ]
          },
          "execution_count": 123,
          "metadata": {},
          "output_type": "execute_result"
        }
      ],
      "source": [
        "np.random.seed(5)\n",
        "np.random.rand(2)"
      ]
    },
    {
      "cell_type": "code",
      "execution_count": null,
      "metadata": {
        "id": "vPk356SPlShd",
        "outputId": "29cce919-f21d-494a-f364-8b16a22e1f77"
      },
      "outputs": [
        {
          "data": {
            "text/plain": [
              "array([0.04872488, 0.28910966])"
            ]
          },
          "execution_count": 121,
          "metadata": {},
          "output_type": "execute_result"
        }
      ],
      "source": [
        "np.random.seed(21)\n",
        "np.random.rand(2)"
      ]
    },
    {
      "cell_type": "code",
      "execution_count": null,
      "metadata": {
        "id": "d9wu5qfBlShd"
      },
      "outputs": [],
      "source": [
        "rand = np.random.randint(0,100,10) # 10 inteiros de 0 a 100"
      ]
    },
    {
      "cell_type": "code",
      "execution_count": null,
      "metadata": {
        "id": "Lj1WUaK4lShd",
        "outputId": "831891d9-b5ee-4256-fe31-27ee6fab4fed"
      },
      "outputs": [
        {
          "data": {
            "text/plain": [
              "array([48, 35, 60, 98, 74, 72, 63, 44, 61, 48])"
            ]
          },
          "execution_count": 115,
          "metadata": {},
          "output_type": "execute_result"
        }
      ],
      "source": [
        "rand"
      ]
    },
    {
      "cell_type": "code",
      "execution_count": null,
      "metadata": {
        "id": "OwQ6InoClShd",
        "outputId": "076a1b0b-af5b-466b-943f-593dc11c13ab"
      },
      "outputs": [
        {
          "data": {
            "text/plain": [
              "98"
            ]
          },
          "execution_count": 116,
          "metadata": {},
          "output_type": "execute_result"
        }
      ],
      "source": [
        "# valor máximo\n",
        "rand.max()"
      ]
    },
    {
      "cell_type": "code",
      "execution_count": null,
      "metadata": {
        "ExecuteTime": {
          "end_time": "2020-01-04T21:00:38.310545Z",
          "start_time": "2020-01-04T21:00:38.305056Z"
        },
        "id": "nDNDSDX9lShd",
        "outputId": "5814882b-a8ca-4388-af31-4c20034b561e"
      },
      "outputs": [
        {
          "data": {
            "text/plain": [
              "3"
            ]
          },
          "execution_count": 117,
          "metadata": {},
          "output_type": "execute_result"
        }
      ],
      "source": [
        "# indice do elemento máximo\n",
        "rand.argmax()"
      ]
    },
    {
      "cell_type": "code",
      "execution_count": null,
      "metadata": {
        "ExecuteTime": {
          "end_time": "2020-01-04T21:00:52.043506Z",
          "start_time": "2020-01-04T21:00:52.039014Z"
        },
        "id": "54XC7zk6lShe",
        "outputId": "4fbad2fa-1fd1-418d-b6d3-c7074ae6cdf1"
      },
      "outputs": [
        {
          "data": {
            "text/plain": [
              "1"
            ]
          },
          "execution_count": 118,
          "metadata": {},
          "output_type": "execute_result"
        }
      ],
      "source": [
        "# indice do elemento mínimo\n",
        "rand.argmin()"
      ]
    },
    {
      "cell_type": "code",
      "execution_count": null,
      "metadata": {
        "ExecuteTime": {
          "end_time": "2020-01-04T21:00:58.380221Z",
          "start_time": "2020-01-04T21:00:58.375729Z"
        },
        "id": "6-6zy5mQlShe",
        "outputId": "45300a57-4485-460e-c68e-352e9e34e66c"
      },
      "outputs": [
        {
          "data": {
            "text/plain": [
              "603"
            ]
          },
          "execution_count": 124,
          "metadata": {},
          "output_type": "execute_result"
        }
      ],
      "source": [
        "rand.sum() # soma dos elementos do array"
      ]
    },
    {
      "cell_type": "code",
      "execution_count": null,
      "metadata": {
        "id": "Zwy_kypplShe",
        "outputId": "904d9ff1-bd67-478a-e1fa-97747a72974b"
      },
      "outputs": [
        {
          "data": {
            "text/plain": [
              "60.3"
            ]
          },
          "execution_count": 125,
          "metadata": {},
          "output_type": "execute_result"
        }
      ],
      "source": [
        "rand.mean() # média dos elementos do arranjo"
      ]
    },
    {
      "cell_type": "code",
      "execution_count": null,
      "metadata": {
        "ExecuteTime": {
          "end_time": "2020-01-04T21:01:12.109189Z",
          "start_time": "2020-01-04T21:01:12.103698Z"
        },
        "id": "xBJZkcevlShe",
        "outputId": "80694023-d041-4d7b-9e9d-6f09df86a69e"
      },
      "outputs": [
        {
          "data": {
            "text/plain": [
              "17.210752453045156"
            ]
          },
          "execution_count": 126,
          "metadata": {},
          "output_type": "execute_result"
        }
      ],
      "source": [
        "rand.std() # desvio-padrão"
      ]
    },
    {
      "cell_type": "code",
      "execution_count": null,
      "metadata": {
        "ExecuteTime": {
          "end_time": "2020-01-04T21:01:12.407635Z",
          "start_time": "2020-01-04T21:01:12.402643Z"
        },
        "id": "CLSbumdRlShe",
        "outputId": "f6050240-519c-4dce-f5a6-ed6a6622ceeb"
      },
      "outputs": [
        {
          "data": {
            "text/plain": [
              "array([35, 44, 48, 48, 60, 61, 63, 72, 74, 98])"
            ]
          },
          "execution_count": 127,
          "metadata": {},
          "output_type": "execute_result"
        }
      ],
      "source": [
        "rand.sort() # ordena o array\n",
        "rand"
      ]
    },
    {
      "cell_type": "code",
      "execution_count": null,
      "metadata": {
        "ExecuteTime": {
          "end_time": "2020-01-04T21:01:12.832842Z",
          "start_time": "2020-01-04T21:01:12.827853Z"
        },
        "id": "6NBlefOclShe",
        "outputId": "2d488a96-cbcd-49f1-a112-04ef7a649461"
      },
      "outputs": [
        {
          "data": {
            "text/plain": [
              "array([35., 44., 48., 48., 60., 61., 63., 72., 74., 98.])"
            ]
          },
          "execution_count": 128,
          "metadata": {},
          "output_type": "execute_result"
        }
      ],
      "source": [
        "rand.astype(float) # converter o tipo do dado"
      ]
    },
    {
      "cell_type": "markdown",
      "metadata": {
        "id": "cxcH11mJlShe"
      },
      "source": [
        "__________\n",
        "___________"
      ]
    },
    {
      "cell_type": "markdown",
      "metadata": {
        "id": "Ly-QOym9lShe"
      },
      "source": [
        "## Vamos praticar?"
      ]
    },
    {
      "cell_type": "markdown",
      "metadata": {
        "id": "7w7FTJoylShe"
      },
      "source": [
        "Em grupos, resolvam os exercícios a seguir."
      ]
    },
    {
      "cell_type": "markdown",
      "metadata": {
        "id": "KUb1rfFklShf"
      },
      "source": [
        "**1.** Escreva uma função que receba uma lista de arrays em numpy. A função deve retornar um escalar que representa a soma total de todos os elementos destes arrays. Inclua na função uma condição de verificação em que, caso haja um array de tamanho distinto dos demais, um erro seja retornado."
      ]
    },
    {
      "cell_type": "markdown",
      "metadata": {
        "id": "5sQ9ZCdDlShf"
      },
      "source": [
        "Exemplo:\n",
        "arr1 = np.array([1,2,3])\n",
        "arr2 = np.array([2,3,4])\n",
        "\n",
        "resultado = soma([arr1, arr2])\n",
        "resultado -> 15"
      ]
    },
    {
      "cell_type": "code",
      "execution_count": null,
      "metadata": {
        "colab": {
          "base_uri": "https://localhost:8080/"
        },
        "id": "lmbVafERlShf",
        "outputId": "34fbe263-291e-4697-db6a-f20ce9f577ef"
      },
      "outputs": [
        {
          "output_type": "execute_result",
          "data": {
            "text/plain": [
              "28"
            ]
          },
          "metadata": {},
          "execution_count": 4
        }
      ],
      "source": [
        "import numpy as np\n",
        "\n",
        "a1 = np.array([1, 2, 3, 4])\n",
        "a2 = np.array([3, 4, 5, 6])\n",
        "\n",
        "# def soma_arrays(*args):\n",
        "\n",
        "#   soma = np.sum()\n",
        "#   return soma\n",
        "\n",
        "def soma_arrays(arr1, arr2):\n",
        "  soma = arr1 + arr2\n",
        "  soma_total = np.sum(soma)\n",
        "  return soma_total\n",
        "\n",
        "soma_arrays(a1, a2)"
      ]
    },
    {
      "cell_type": "code",
      "source": [
        "import numpy as np\n",
        "\n",
        "def soma(arrays):\n",
        "    length = len(arrays[0])\n",
        "    for array in arrays:\n",
        "        if len(array) != length:\n",
        "            raise ValueError(\"Todos os arrays devem ter o mesmo tamanho\")\n",
        "\n",
        "    total_sum = sum(np.sum(array) for array in arrays)\n",
        "\n",
        "    return total_sum\n",
        "\n",
        "arr1 = np.array([1, 2, 3])\n",
        "arr2 = np.array([2, 3, 4])\n",
        "\n",
        "resultado = soma([arr1, arr2])\n",
        "print(resultado)"
      ],
      "metadata": {
        "colab": {
          "base_uri": "https://localhost:8080/"
        },
        "id": "ZK3wedLBnyKb",
        "outputId": "7a648e4f-6c88-449b-e5f1-f5488a0acfaf"
      },
      "execution_count": null,
      "outputs": [
        {
          "output_type": "stream",
          "name": "stdout",
          "text": [
            "15\n"
          ]
        }
      ]
    },
    {
      "cell_type": "markdown",
      "metadata": {
        "id": "7BXO7nrrlShg"
      },
      "source": [
        "**2.** Em estatística, a normalização de uma distribuição de dados pode ser feita subtraindo o valor médio da distribuição de cada valor do conjunto de dados, dividindo o resultado pelo desvio-padrão da distribuição. Escreva uma função que normalize os dados recebidos por um array numpy qualquer, conforme descrito anteriormente."
      ]
    },
    {
      "cell_type": "code",
      "execution_count": null,
      "metadata": {
        "colab": {
          "base_uri": "https://localhost:8080/"
        },
        "id": "zpfjUUHBlShg",
        "outputId": "7e75da5b-59c1-414b-c1f7-6fa63c3eeffc"
      },
      "outputs": [
        {
          "output_type": "execute_result",
          "data": {
            "text/plain": [
              "array([-1.46385011, -0.87831007, -0.29277002,  0.29277002,  0.87831007,\n",
              "        1.46385011])"
            ]
          },
          "metadata": {},
          "execution_count": 7
        }
      ],
      "source": [
        "import numpy as np\n",
        "\n",
        "def normalizacao(array):\n",
        "  media = np.mean(array)\n",
        "  desvio_padrao = np.std(array)\n",
        "  array_normal = (array - media)/desvio_padrao\n",
        "  return array_normal\n",
        "\n",
        "a1 = np.array([1, 2, 3, 4, 5, 6])\n",
        "normalizacao(a1)"
      ]
    },
    {
      "cell_type": "markdown",
      "metadata": {
        "id": "cBToFNXilShg"
      },
      "source": [
        "**3.** Escreva uma função em numpy que receba um array contendo notas de uma turma de 100 estudantes. Considere que a nota de aprovação da turma é 5.0. A função deve retornar, em um array numpy, nesta ordem:\n",
        "- a média e o desvio-padrão das notas da turma;\n",
        "- o número de notas maiores que 7.0;\n",
        "- o número de reprovações da turma;\n",
        "- a menor nota da turma;\n",
        "- a maior nota da turma."
      ]
    },
    {
      "cell_type": "code",
      "execution_count": null,
      "metadata": {
        "colab": {
          "base_uri": "https://localhost:8080/"
        },
        "id": "S3X7OkSDlShg",
        "outputId": "e16dfadf-862f-4fa4-cd24-c470751b841d"
      },
      "outputs": [
        {
          "output_type": "stream",
          "name": "stdout",
          "text": [
            "[2.48571379 6.56537645 7.08012125 2.26473774 4.0253523  9.5631705\n",
            " 7.41387591 9.46358394 0.64946063 6.53586479]\n"
          ]
        },
        {
          "output_type": "execute_result",
          "data": {
            "text/plain": [
              "(5.604725729368633,\n",
              " 2.928012732433026,\n",
              " 4,\n",
              " 4,\n",
              " 0.6494606327481001,\n",
              " 9.563170497598541)"
            ]
          },
          "metadata": {},
          "execution_count": 10
        }
      ],
      "source": [
        "import numpy as np\n",
        "\n",
        "notas = np.random.uniform(0, 10, 100)\n",
        "\n",
        "def informacoes(array):\n",
        "  media = np.mean(array)\n",
        "  desvio_padrao = np.std(array)\n",
        "  m7 = 0\n",
        "  reprovacoes = 0\n",
        "  for nota in array:\n",
        "    if nota > 7:\n",
        "      m7 +=1\n",
        "    elif nota < 5:\n",
        "      reprovacoes +=1\n",
        "    else:\n",
        "      continue\n",
        "  menor_nota = np.min(array)\n",
        "  maior_nota = np.max(array)\n",
        "  return media, desvio_padrao, m7, reprovacoes, menor_nota, maior_nota\n",
        "\n",
        "informacoes(notas)"
      ]
    },
    {
      "cell_type": "markdown",
      "metadata": {
        "id": "OCpSPq1mlShj"
      },
      "source": [
        "**4.** Em Geometria Analítica, um **vetor** é uma quantidade que pode ser definida por um énuplo (uma sequência ordenada de *n* elementos) em que cada elemento representa a intensidade do vetor na direção especificada pela i-ésima componente desta sequência.\n",
        "\n",
        "Quando pensamos em duas dimensões, por exemplo, o vetor $R = (b,a)$ define, geometricamente, a entidade representada na figura abaixo, com componentes nos eixos x e y usuais.\n",
        "\n",
        "<img src = \"https://static.todamateria.com.br/upload/im/ag/image-721.jpg?auto_optimize=low\" />\n",
        "\n",
        "O **módulo** deste vetor, também chamado de intensidade, está geometricamente relacionado ao seu comprimento, e pode ser calculado diretamente pelas suas componentes, por meio de uma operação conhecida como **produto escalar** do vetor com ele mesmo. O módulo quadrático é expresso, desta forma, por:\n",
        "\n",
        "$|A|^2 = \\vec{A} \\cdot \\vec{A}$\n",
        "\n",
        "Por outro lado, o produto escalar entre dois vetores $A = (a_{x}, a_{y})$ e $B = (b_{x}, b_{y})$ é dado por:\n",
        "\n",
        "$\\vec{A} \\cdot \\vec{B} = a_{x} \\times b_{x} + a_{y} \\times b_{y}$ (e esta definição vale para qualquer que seja a dimensão do vetor).\n",
        "\n",
        "O módulo quadrático de um vetor é, portanto:\n",
        "\n",
        "$|A|² = a_{x}^2 + b_{x}^2$."
      ]
    },
    {
      "cell_type": "markdown",
      "metadata": {
        "id": "XOijQkaulShj"
      },
      "source": [
        "Dado o exposto acima, escreva uma função que retorne o módulo de um vetor n-dimensional qualquer."
      ]
    },
    {
      "cell_type": "code",
      "execution_count": null,
      "metadata": {
        "colab": {
          "base_uri": "https://localhost:8080/"
        },
        "id": "0ULMdFk4lShj",
        "outputId": "c8d7d975-44c3-44f6-a265-3ff569822cc8"
      },
      "outputs": [
        {
          "output_type": "stream",
          "name": "stdout",
          "text": [
            "2.8284271247461903\n"
          ]
        }
      ],
      "source": [
        "import numpy as np\n",
        "\n",
        "def modulo_vetor(vetor):\n",
        "    modulo = np.sqrt(np.sum(vetor**2))\n",
        "    return modulo\n",
        "\n",
        "vetor = np.array([2, 2])\n",
        "modulo = modulo_vetor(vetor)\n",
        "print(modulo)"
      ]
    },
    {
      "cell_type": "markdown",
      "metadata": {
        "id": "LuFomi_hlShj"
      },
      "source": [
        "**5.** Uma *senoide* é uma função derivada de $sin(x)$, usualmente utilizada para representar/modelar problemas em que existe repetição de um sinal ou um dado padrão. Uma típica senoide está esquematizada na figura abaixo.\n",
        "\n",
        "<img src = \"https://d2p7ncqs8iaoqd.cloudfront.net/2019/07/16200512/onda-sinusoidal.png\" />"
      ]
    },
    {
      "cell_type": "markdown",
      "metadata": {
        "id": "Xjuyml_PlShj"
      },
      "source": [
        "Existem, assim, algumas quantidades que caracterizam uma função desse tipo, que podem ser modeladas segundo a relação\n",
        "\n",
        "$$f(x) = Asin(x \\times \\frac{2\\pi}{T}),$$\n",
        "sendo:\n",
        "\n",
        "- A a amplitude da senoide;\n",
        "- T o período."
      ]
    },
    {
      "cell_type": "markdown",
      "metadata": {
        "id": "vii7LOc0lShk"
      },
      "source": [
        "A partir disso:"
      ]
    },
    {
      "cell_type": "markdown",
      "metadata": {
        "id": "W8tFSJzOlShl"
      },
      "source": [
        "**a)** escreva uma função que receba a amplitude e o período, e grafique a senoide correspondente."
      ]
    },
    {
      "cell_type": "code",
      "execution_count": null,
      "metadata": {
        "colab": {
          "base_uri": "https://localhost:8080/",
          "height": 430
        },
        "id": "WHFRR_0plShm",
        "outputId": "2c71a606-e1cd-40e9-feb4-471366cdd917"
      },
      "outputs": [
        {
          "output_type": "display_data",
          "data": {
            "text/plain": [
              "<Figure size 640x480 with 1 Axes>"
            ],
            "image/png": "[encoded data removed]"
          },
          "metadata": {}
        }
      ],
      "source": [
        "import numpy as np\n",
        "import matplotlib.pyplot as plt\n",
        "\n",
        "\n",
        "def senoide(array, A, T):\n",
        "\n",
        "  y = A * np.sin(array* (2 * np.pi / T))\n",
        "\n",
        "  return y\n",
        "\n",
        "A = 2\n",
        "T = 0.02\n",
        "a1 = np.linspace(0, 2, 100)\n",
        "func = senoide(a1, A, T)\n",
        "\n",
        "plt.plot(a1, func)\n",
        "plt.show()"
      ]
    },
    {
      "cell_type": "code",
      "source": [
        "import numpy as np\n",
        "import matplotlib.pyplot as plt\n",
        "\n",
        "def graficar_senoide(A, T):\n",
        "    x = np.linspace(0, 2 * T, 1000)\n",
        "\n",
        "    y = A * np.sin(2 * np.pi * x / T)\n",
        "\n",
        "    plt.plot(x, y)\n",
        "    plt.title(f'Senoide com Amplitude = {A} e Período = {T}')\n",
        "    plt.xlabel('Tempo (s)')\n",
        "    plt.ylabel('Amplitude')\n",
        "    plt.grid(True)\n",
        "    plt.show()\n",
        "graficar_senoide(5, 2)"
      ],
      "metadata": {
        "colab": {
          "base_uri": "https://localhost:8080/",
          "height": 472
        },
        "id": "BIoTyIXgvNCi",
        "outputId": "9512dd19-7b25-409d-c135-3cb221fed0b0"
      },
      "execution_count": null,
      "outputs": [
        {
          "output_type": "display_data",
          "data": {
            "text/plain": [
              "<Figure size 640x480 with 1 Axes>"
            ],
            "image/png": "[encoded data removed]"
          },
          "metadata": {}
        }
      ]
    },
    {
      "cell_type": "code",
      "execution_count": null,
      "metadata": {
        "id": "70ISYq0GlShl"
      },
      "outputs": [],
      "source": [
        "# exemplo para A = 20 e T = 10\n",
        "grafica_senoide(20,10)"
      ]
    },
    {
      "cell_type": "markdown",
      "metadata": {
        "id": "403ASYhNlShm"
      },
      "source": [
        "**b**) Adicione um ruído aleatório à senoide, de modo que o gráfico seja modificado consideravelmente, como no exemplo abaixo."
      ]
    },
    {
      "cell_type": "code",
      "execution_count": null,
      "metadata": {
        "colab": {
          "base_uri": "https://localhost:8080/",
          "height": 430
        },
        "id": "bb2Bo8bVlShm",
        "outputId": "7689c198-493f-4448-8661-0f267767bbbf"
      },
      "outputs": [
        {
          "output_type": "display_data",
          "data": {
            "text/plain": [
              "<Figure size 640x480 with 1 Axes>"
            ],
            "image/png": "[encoded data removed]"
          },
          "metadata": {}
        }
      ],
      "source": [
        "import numpy as np\n",
        "import matplotlib.pyplot as plt\n",
        "\n",
        "numeros = np.random.normal(0, 1, 100)\n",
        "a1 = np.linspace(0, 1, 100)\n",
        "dados = numeros + a1\n",
        "func = senoide(dados, A, T)\n",
        "plt.plot(dados, func)\n",
        "plt.show()"
      ]
    },
    {
      "cell_type": "code",
      "execution_count": null,
      "metadata": {
        "colab": {
          "base_uri": "https://localhost:8080/",
          "height": 472
        },
        "id": "iQQ-hzhDlShm",
        "outputId": "e5854e32-f417-49cf-ade7-07c6d70981c3"
      },
      "outputs": [
        {
          "output_type": "display_data",
          "data": {
            "text/plain": [
              "<Figure size 640x480 with 1 Axes>"
            ],
            "image/png": "[encoded data removed]"
          },
          "metadata": {}
        }
      ],
      "source": [
        "import numpy as np\n",
        "import matplotlib.pyplot as plt\n",
        "\n",
        "def graficar_senoide_com_ruido(A, T, ruido_intensidade):\n",
        "    x = np.linspace(0, 2 * T, 1000)\n",
        "    y = A * np.sin(2 * np.pi * x / T)\n",
        "    ruido = np.random.normal(0, ruido_intensidade, x.shape)\n",
        "    y_ruido = y + ruido\n",
        "    plt.plot(x, y_ruido, label='Senoide com Ruído')\n",
        "    plt.title(f'Senoide com Amplitude = {A}, Período = {T} e Ruído')\n",
        "    plt.xlabel('Tempo (s)')\n",
        "    plt.ylabel('Amplitude')\n",
        "    plt.grid(True)\n",
        "    plt.legend()\n",
        "    plt.show()\n",
        "\n",
        "graficar_senoide_com_ruido(5, 2, 1)"
      ]
    },
    {
      "cell_type": "markdown",
      "metadata": {
        "id": "IN2_HVaPlShm"
      },
      "source": [
        "**c)** Agora somente a partir da senoide ruidosa, faça uma função que calcule a média móvel a cada 4 pontos, e grafique as duas curvas, para comparação, como no exemplo abaixo."
      ]
    },
    {
      "cell_type": "code",
      "execution_count": null,
      "metadata": {
        "id": "Et6-RU-slShm",
        "outputId": "d7375ff3-6730-4a00-c2d2-cfe98012062b"
      },
      "outputs": [
        {
          "data": {
            "text/plain": [
              "(0.0, 10.0, -30.0, 30.0)"
            ]
          },
          "execution_count": 10,
          "metadata": {},
          "output_type": "execute_result"
        },
        {
          "data": {
            "image/png": "[encoded data removed]",
            "text/plain": [
              "<Figure size 432x288 with 1 Axes>"
            ]
          },
          "metadata": {
            "needs_background": "light"
          },
          "output_type": "display_data"
        }
      ],
      "source": [
        "import numpy as np\n",
        "import matplotlib.pyplot as plt\n",
        "\n",
        "def graficar_senoide_com_media_movel(A, T, ruido_intensidade, janela):\n",
        "    x = np.linspace(0, 2 * T, 1000)\n",
        "    y = A * np.sin(2 * np.pi * x / T)\n",
        "    ruido = np.random.normal(0, ruido_intensidade, x.shape)\n",
        "    y_ruido = y + ruido\n",
        "    media_movel = np.convolve(y_ruido, np.ones(janela)/janela, mode='valid')\n",
        "    x_media_movel = np.linspace(0, 2 * T, len(media_movel))\n",
        "    plt.figure(figsize=(10, 6))\n",
        "    plt.plot(x, y_ruido, label='Senoide com Ruído', alpha=0.5)\n",
        "    plt.plot(x_media_movel, media_movel, label='Média Móvel', color='red', linewidth=2)\n",
        "    plt.title(f'Senoide com Amplitude = {A}, Período = {T} e Média Móvel')\n",
        "    plt.xlabel('Tempo (s)')\n",
        "    plt.ylabel('Amplitude')\n",
        "    plt.grid(True)\n",
        "    plt.legend()\n",
        "    plt.show()\n",
        "graficar_senoide_com_media_movel(5, 2, 1, 4)"
      ]
    },
    {
      "cell_type": "code",
      "source": [
        "import numpy as np\n",
        "import matplotlib.pyplot as plt\n",
        "\n",
        "def calcular_media_movel(y_ruido, janela):\n",
        "\n",
        "    media_movel = []\n",
        "\n",
        "    for i in range(len(y_ruido) - janela + 1):\n",
        "        media_movel.append(np.mean(y_ruido[i:i+janela]))\n",
        "\n",
        "    return np.array(media_movel)\n",
        "\n",
        "def graficar_senoide_com_media_movel(A, T, ruido_intensidade, janela):\n",
        "\n",
        "    x = np.linspace(0, 2 * T, 1000)\n",
        "\n",
        "    y = A * np.sin(2 * np.pi * x / T)\n",
        "\n",
        "    ruido = np.random.normal(0, ruido_intensidade, x.shape)\n",
        "    y_ruido = y + ruido\n",
        "\n",
        "    media_movel = calcular_media_movel(y_ruido, janela)\n",
        "\n",
        "    x_media_movel = np.linspace(0, 2 * T, len(media_movel))\n",
        "    plt.figure(figsize=(10, 6))\n",
        "    plt.plot(x, y_ruido, label='Senoide com Ruído', alpha=0.5)\n",
        "    plt.plot(x_media_movel, media_movel, label='Média Móvel', color='red', linewidth=2)\n",
        "    plt.title(f'Senoide com Amplitude = {A}, Período = {T} e Média Móvel')\n",
        "    plt.xlabel('Tempo (s)')\n",
        "    plt.ylabel('Amplitude')\n",
        "    plt.grid(True)\n",
        "    plt.legend()\n",
        "    plt.show()\n",
        "\n",
        "graficar_senoide_com_media_movel(5, 2, 1, 4)"
      ],
      "metadata": {
        "colab": {
          "base_uri": "https://localhost:8080/",
          "height": 565
        },
        "id": "-NcCQPBhzmC4",
        "outputId": "078ada2d-f76f-4704-f114-2b54deee0aa8"
      },
      "execution_count": null,
      "outputs": [
        {
          "output_type": "display_data",
          "data": {
            "text/plain": [
              "<Figure size 1000x600 with 1 Axes>"
            ],
            "image/png": "[encoded data removed]"
          },
          "metadata": {}
        }
      ]
    },
    {
      "cell_type": "markdown",
      "metadata": {
        "id": "9o0DJkgBlShm"
      },
      "source": [
        "___\n",
        "___\n",
        "___"
      ]
    }
  ],
  "metadata": {
    "kernelspec": {
      "display_name": "Python 3",
      "language": "python",
      "name": "python3"
    },
    "language_info": {
      "codemirror_mode": {
        "name": "ipython",
        "version": 3
      },
      "file_extension": ".py",
      "mimetype": "text/x-python",
      "name": "python",
      "nbconvert_exporter": "python",
      "pygments_lexer": "ipython3",
      "version": "3.8.5"
    },
    "colab": {
      "provenance": [],
      "include_colab_link": true
    }
  },
  "nbformat": 4,
  "nbformat_minor": 0
}